{
  "nbformat": 4,
  "nbformat_minor": 0,
  "metadata": {
    "colab": {
      "name": "capstone project.ipynb",
      "provenance": [],
      "authorship_tag": "ABX9TyMvg4Ixd9rrWkr6Vs6gQ90r",
      "include_colab_link": true
    },
    "kernelspec": {
      "name": "python3",
      "display_name": "Python 3"
    }
  },
  "cells": [
    {
      "cell_type": "markdown",
      "metadata": {
        "id": "view-in-github",
        "colab_type": "text"
      },
      "source": [
        "<a href=\"https://colab.research.google.com/github/vivekvarma3366/machine-learning/blob/master/capstone_project.ipynb\" target=\"_parent\"><img src=\"https://colab.research.google.com/assets/colab-badge.svg\" alt=\"Open In Colab\"/></a>"
      ]
    },
    {
      "cell_type": "code",
      "metadata": {
        "id": "0-m9sMsE0Zk1",
        "colab_type": "code",
        "colab": {}
      },
      "source": [
        "import numpy as np\n",
        "import pandas as pd\n",
        "from matplotlib import pyplot as plt\n",
        "from collections import OrderedDict"
      ],
      "execution_count": 1,
      "outputs": []
    },
    {
      "cell_type": "markdown",
      "metadata": {
        "id": "LixruiCh1yga",
        "colab_type": "text"
      },
      "source": [
        "# Load **data**"
      ]
    },
    {
      "cell_type": "code",
      "metadata": {
        "id": "Sp1ZWKXm0sz4",
        "colab_type": "code",
        "colab": {}
      },
      "source": [
        "train = pd.read_csv('random-linear-regression/train.csv')\n",
        "test = pd.read_csv('random-linear-regression/test.csv')"
      ],
      "execution_count": 3,
      "outputs": []
    },
    {
      "cell_type": "code",
      "metadata": {
        "id": "Si1DCkxt14Zg",
        "colab_type": "code",
        "colab": {}
      },
      "source": [
        "train.head()"
      ],
      "execution_count": null,
      "outputs": []
    },
    {
      "cell_type": "code",
      "metadata": {
        "id": "GlqUftpc2C7B",
        "colab_type": "code",
        "colab": {}
      },
      "source": [
        "train_x = train['x']\n",
        "train_y = train['y']\n",
        "\n",
        "test_x = test['x']\n",
        "test_y = test['y']"
      ],
      "execution_count": null,
      "outputs": []
    },
    {
      "cell_type": "code",
      "metadata": {
        "id": "MgnV4xJA2LJi",
        "colab_type": "code",
        "colab": {}
      },
      "source": [
        "train_x.head()"
      ],
      "execution_count": null,
      "outputs": []
    },
    {
      "cell_type": "code",
      "metadata": {
        "id": "dLrE_q0u5g3H",
        "colab_type": "code",
        "colab": {}
      },
      "source": [
        "print(\"Total number of training examples:%d\" %(len(train_x)))\n",
        "print(\"Total number of testing examples:%d\" %(len(test_x)))"
      ],
      "execution_count": null,
      "outputs": []
    },
    {
      "cell_type": "markdown",
      "metadata": {
        "id": "-jUrTPwI5w8H",
        "colab_type": "text"
      },
      "source": [
        "# **Visualize data**\n",
        "\n",
        "**Plotting Train Data**"
      ]
    },
    {
      "cell_type": "code",
      "metadata": {
        "id": "udTMDjYH5oNF",
        "colab_type": "code",
        "colab": {}
      },
      "source": [
        "plt.plot(train_x, train_y, 'r.', label = 'train')\n",
        "plt.xlabel('train_x')\n",
        "plt.ylabel('train_y')\n",
        "plt.legend()\n",
        "plt.show()"
      ],
      "execution_count": null,
      "outputs": []
    },
    {
      "cell_type": "markdown",
      "metadata": {
        "id": "7HrJrjok6GV1",
        "colab_type": "text"
      },
      "source": [
        "Plotting Test **Data**"
      ]
    },
    {
      "cell_type": "code",
      "metadata": {
        "id": "hvGfLvhn56QJ",
        "colab_type": "code",
        "colab": {}
      },
      "source": [
        "\n",
        "plt.plot(test_x, test_y, 'b.', label = 'test')\n",
        "plt.xlabel('test_x')\n",
        "plt.ylabel('test_y')\n",
        "plt.legend()\n",
        "plt.show()"
      ],
      "execution_count": null,
      "outputs": []
    },
    {
      "cell_type": "code",
      "metadata": {
        "id": "4qf63gZ76LS2",
        "colab_type": "code",
        "colab": {}
      },
      "source": [
        "def linear_reg(train_x, train_y, lr=0.0001, epochs=10):\n",
        "    n = len(train_x)\n",
        "    \n",
        "    a0 = np.zeros((n))\n",
        "    a1 = np.zeros((n))\n",
        "    \n",
        "    itr = 0\n",
        "    while itr < epochs:\n",
        "        y_predict = a0 + a1 * train_x\n",
        "        error = (y_predict - train_y)\n",
        "        sq_error = error**2\n",
        "        mean_sq_error = np.sum(sq_error) / n\n",
        "        \n",
        "        d_a0 = 2 * np.sum(error) / n\n",
        "        d_a1 = 2 * np.sum(error * train_x) / n\n",
        "        \n",
        "        # parameters update\n",
        "        a0 = a0 - lr * d_a0\n",
        "        a1 = a1 - lr * d_a1\n",
        "        \n",
        "        print(\"loss after %d iterations: %.3f\" %(itr, mean_sq_error))\n",
        "        itr += 1\n",
        "    \n",
        "    return a0, a1"
      ],
      "execution_count": null,
      "outputs": []
    },
    {
      "cell_type": "code",
      "metadata": {
        "id": "oW4BvaD-6OXA",
        "colab_type": "code",
        "colab": {}
      },
      "source": [
        "def visualize_model_predictions(test_x, test_y, a0, a1):\n",
        "    y_predictions = []\n",
        "    for i in range(100):\n",
        "        y_predict = a0 + a1 * i\n",
        "        y_predictions.append(y_predict)\n",
        "    \n",
        "    plt.plot(test_x, test_y, 'b.', label='test')\n",
        "    line_values = range(len(y_predictions))\n",
        "    plt.plot(list(line_values), y_predictions, color='black', label='predict')\n",
        "    \n",
        "    handles, labels = plt.gca().get_legend_handles_labels()\n",
        "    by_label = OrderedDict(zip(labels, handles))\n",
        "    plt.ylabel('y_values')\n",
        "    plt.xlabel('x_values')\n",
        "    plt.legend(by_label.values(), by_label.keys())\n",
        "    plt.show()"
      ],
      "execution_count": null,
      "outputs": []
    },
    {
      "cell_type": "code",
      "metadata": {
        "id": "xYgf5tSm6SPI",
        "colab_type": "code",
        "colab": {}
      },
      "source": [
        "a0, a1 = linear_reg(train_x, train_y)"
      ],
      "execution_count": null,
      "outputs": []
    },
    {
      "cell_type": "code",
      "metadata": {
        "id": "TUWdgRUH6VVq",
        "colab_type": "code",
        "colab": {}
      },
      "source": [
        "visualize_model_predictions(test_x, test_y, a0, a1)"
      ],
      "execution_count": null,
      "outputs": []
    }
  ]
}